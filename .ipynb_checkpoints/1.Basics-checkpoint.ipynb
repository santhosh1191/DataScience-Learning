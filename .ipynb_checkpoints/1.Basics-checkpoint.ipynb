{
 "cells": [
  {
   "cell_type": "markdown",
   "id": "1ebaa539-7041-4e8f-a69e-bcc2528fefbc",
   "metadata": {},
   "source": [
    "# Basics of Python\n",
    "- Various Datatypes in Python\n",
    "- Variables\n",
    "- Variables Assignment\n",
    "- Print Formatting"
   ]
  },
  {
   "cell_type": "code",
   "execution_count": 41,
   "id": "99365867-8ef9-426e-a89f-9f3c3ed541dc",
   "metadata": {},
   "outputs": [
    {
     "data": {
      "text/plain": [
       "2"
      ]
     },
     "execution_count": 41,
     "metadata": {},
     "output_type": "execute_result"
    }
   ],
   "source": [
    "1+1"
   ]
  },
  {
   "cell_type": "code",
   "execution_count": 43,
   "id": "67126e99-1574-43ea-8ca6-204ba1833358",
   "metadata": {},
   "outputs": [
    {
     "data": {
      "text/plain": [
       "0"
      ]
     },
     "execution_count": 43,
     "metadata": {},
     "output_type": "execute_result"
    }
   ],
   "source": [
    "2-2"
   ]
  },
  {
   "cell_type": "code",
   "execution_count": 12,
   "id": "d42298a3-2c03-4e7a-9caa-c4fadc355287",
   "metadata": {},
   "outputs": [
    {
     "data": {
      "text/plain": [
       "20"
      ]
     },
     "execution_count": 12,
     "metadata": {},
     "output_type": "execute_result"
    }
   ],
   "source": [
    "4*5"
   ]
  },
  {
   "cell_type": "code",
   "execution_count": 49,
   "id": "bddec1e7-8d35-41ba-847e-131506d52afa",
   "metadata": {},
   "outputs": [
    {
     "data": {
      "text/plain": [
       "0.0"
      ]
     },
     "execution_count": 49,
     "metadata": {},
     "output_type": "execute_result"
    }
   ],
   "source": [
    "0/10"
   ]
  },
  {
   "cell_type": "code",
   "execution_count": 47,
   "id": "1df54a93-fee9-4362-8d86-5f94ef583b69",
   "metadata": {},
   "outputs": [
    {
     "data": {
      "text/plain": [
       "2.0"
      ]
     },
     "execution_count": 47,
     "metadata": {},
     "output_type": "execute_result"
    }
   ],
   "source": [
    "10/5"
   ]
  },
  {
   "cell_type": "code",
   "execution_count": 14,
   "id": "618ebb68-e3ce-4e87-831e-d19e4b1a0fc1",
   "metadata": {},
   "outputs": [
    {
     "data": {
      "text/plain": [
       "100"
      ]
     },
     "execution_count": 14,
     "metadata": {},
     "output_type": "execute_result"
    }
   ],
   "source": [
    "10**2"
   ]
  },
  {
   "cell_type": "code",
   "execution_count": 16,
   "id": "4a188212-a8d6-48de-a223-de8434cc8f02",
   "metadata": {},
   "outputs": [
    {
     "data": {
      "text/plain": [
       "'strstrstrstrstrstrstrstrstrstr'"
      ]
     },
     "execution_count": 16,
     "metadata": {},
     "output_type": "execute_result"
    }
   ],
   "source": [
    "10 * 'str'"
   ]
  },
  {
   "cell_type": "code",
   "execution_count": 18,
   "id": "7dcbc744-a68e-4f79-b941-15f107f86125",
   "metadata": {},
   "outputs": [
    {
     "data": {
      "text/plain": [
       "0"
      ]
     },
     "execution_count": 18,
     "metadata": {},
     "output_type": "execute_result"
    }
   ],
   "source": [
    "10%2"
   ]
  },
  {
   "cell_type": "code",
   "execution_count": 54,
   "id": "f337faec-404f-4810-a089-c0c286b68078",
   "metadata": {},
   "outputs": [
    {
     "data": {
      "text/plain": [
       "bool"
      ]
     },
     "execution_count": 54,
     "metadata": {},
     "output_type": "execute_result"
    }
   ],
   "source": [
    "#Check the Data types\n",
    "type(True)"
   ]
  },
  {
   "cell_type": "code",
   "execution_count": 56,
   "id": "95311e43-0b03-48d6-b011-1961897ccf96",
   "metadata": {},
   "outputs": [
    {
     "data": {
      "text/plain": [
       "str"
      ]
     },
     "execution_count": 56,
     "metadata": {},
     "output_type": "execute_result"
    }
   ],
   "source": [
    "type(\"Hello\")"
   ]
  },
  {
   "cell_type": "code",
   "execution_count": 20,
   "id": "2f2e8637-b5b7-4399-8bee-5ee05e981aa5",
   "metadata": {},
   "outputs": [
    {
     "data": {
      "text/plain": [
       "int"
      ]
     },
     "execution_count": 20,
     "metadata": {},
     "output_type": "execute_result"
    }
   ],
   "source": [
    "type(1)"
   ]
  },
  {
   "cell_type": "code",
   "execution_count": 22,
   "id": "64c06907-bdf4-4111-80a3-a4b21569b1ca",
   "metadata": {},
   "outputs": [
    {
     "data": {
      "text/plain": [
       "float"
      ]
     },
     "execution_count": 22,
     "metadata": {},
     "output_type": "execute_result"
    }
   ],
   "source": [
    "type(10.0)"
   ]
  },
  {
   "cell_type": "code",
   "execution_count": 24,
   "id": "38643759-0079-42a4-8821-fda85fad1411",
   "metadata": {},
   "outputs": [
    {
     "data": {
      "text/plain": [
       "bool"
      ]
     },
     "execution_count": 24,
     "metadata": {},
     "output_type": "execute_result"
    }
   ],
   "source": [
    "type(True)"
   ]
  },
  {
   "cell_type": "code",
   "execution_count": 28,
   "id": "727cbc89-6c88-4559-a540-e2f5194431f0",
   "metadata": {},
   "outputs": [
    {
     "data": {
      "text/plain": [
       "str"
      ]
     },
     "execution_count": 28,
     "metadata": {},
     "output_type": "execute_result"
    }
   ],
   "source": [
    "type('c')"
   ]
  },
  {
   "cell_type": "code",
   "execution_count": 30,
   "id": "60ef26e2-bf1d-4755-9119-eeb4f8099667",
   "metadata": {},
   "outputs": [
    {
     "data": {
      "text/plain": [
       "str"
      ]
     },
     "execution_count": 30,
     "metadata": {},
     "output_type": "execute_result"
    }
   ],
   "source": [
    "type('hello')"
   ]
  },
  {
   "cell_type": "markdown",
   "id": "16e30364-ea4b-4c61-8e51-1a890bfe8da0",
   "metadata": {},
   "source": [
    "## Variable Assignment"
   ]
  },
  {
   "cell_type": "code",
   "execution_count": 60,
   "id": "5dd529a3-ead1-47ae-8316-4e0100e96f71",
   "metadata": {},
   "outputs": [],
   "source": [
    "#var_name=values\n",
    "a=10"
   ]
  },
  {
   "cell_type": "code",
   "execution_count": 62,
   "id": "fadacce5-51d5-4a07-823f-8f10cc3fe1b5",
   "metadata": {},
   "outputs": [
    {
     "data": {
      "text/plain": [
       "int"
      ]
     },
     "execution_count": 62,
     "metadata": {},
     "output_type": "execute_result"
    }
   ],
   "source": [
    "type(a)"
   ]
  },
  {
   "cell_type": "code",
   "execution_count": 64,
   "id": "60fc6ee6-7bb2-46d6-8b4b-24d05d629715",
   "metadata": {},
   "outputs": [],
   "source": [
    "a='Santhosh'"
   ]
  },
  {
   "cell_type": "code",
   "execution_count": 66,
   "id": "a752886d-c8b2-4a8b-b034-4eec875a7530",
   "metadata": {},
   "outputs": [
    {
     "data": {
      "text/plain": [
       "str"
      ]
     },
     "execution_count": 66,
     "metadata": {},
     "output_type": "execute_result"
    }
   ],
   "source": [
    "type(a)"
   ]
  },
  {
   "cell_type": "code",
   "execution_count": 68,
   "id": "71bdc6b5-527c-4913-bbc2-2b13d0ba6a3c",
   "metadata": {},
   "outputs": [],
   "source": [
    "#Mathematical Operations with Variable Assignment\n",
    "a=10\n",
    "b=20"
   ]
  },
  {
   "cell_type": "code",
   "execution_count": 74,
   "id": "5411e171-462e-4b4c-8684-15bb6cfb224b",
   "metadata": {},
   "outputs": [
    {
     "name": "stdout",
     "output_type": "stream",
     "text": [
      "200\n",
      "0.5\n",
      "10\n",
      "30.5\n"
     ]
    }
   ],
   "source": [
    "print(a*b)\n",
    "print(a/b)\n",
    "print(a%b)\n",
    "print((a+b)+(a/b)) #BODMAS"
   ]
  },
  {
   "cell_type": "markdown",
   "id": "576c9498-2863-4fe4-9f2f-18785ec91b60",
   "metadata": {},
   "source": [
    "## Strings"
   ]
  },
  {
   "cell_type": "code",
   "execution_count": 34,
   "id": "afe43b98-d52e-4968-abcf-8fba9dca20cb",
   "metadata": {},
   "outputs": [
    {
     "name": "stdout",
     "output_type": "stream",
     "text": [
      "Hello\n"
     ]
    }
   ],
   "source": [
    "print(\"Hello\")"
   ]
  },
  {
   "cell_type": "code",
   "execution_count": 38,
   "id": "63a13c89-2ffb-4e49-916e-b58009c2e736",
   "metadata": {},
   "outputs": [
    {
     "name": "stdout",
     "output_type": "stream",
     "text": [
      "My first name is Santhosh and last name is Kenchanagoudar\n",
      "My first name is Santhosh and last name is Kenchanagoudar\n"
     ]
    }
   ],
   "source": [
    "fn='Santhosh'\n",
    "ln='Kenchanagoudar'\n",
    "print(\"My first name is {} and last name is {}\".format(fn,ln))\n",
    "print(\"My first name is {first} and last name is {last}\".format(first=fn,last=ln))"
   ]
  },
  {
   "cell_type": "code",
   "execution_count": 76,
   "id": "bea1f1bb-074b-4be2-a9d7-0a67698f7f13",
   "metadata": {},
   "outputs": [
    {
     "data": {
      "text/plain": [
       "8"
      ]
     },
     "execution_count": 76,
     "metadata": {},
     "output_type": "execute_result"
    }
   ],
   "source": [
    "len('Santhosh')"
   ]
  },
  {
   "cell_type": "code",
   "execution_count": 86,
   "id": "b106183b-ff64-4a05-b721-eb2e3ce7e202",
   "metadata": {},
   "outputs": [
    {
     "data": {
      "text/plain": [
       "list"
      ]
     },
     "execution_count": 86,
     "metadata": {},
     "output_type": "execute_result"
    }
   ],
   "source": [
    "type(['1',2,4,5])"
   ]
  },
  {
   "cell_type": "code",
   "execution_count": null,
   "id": "3917045e-2f44-483b-8e8e-75f75171d4b9",
   "metadata": {},
   "outputs": [],
   "source": []
  }
 ],
 "metadata": {
  "kernelspec": {
   "display_name": "Python 3 (ipykernel)",
   "language": "python",
   "name": "python3"
  },
  "language_info": {
   "codemirror_mode": {
    "name": "ipython",
    "version": 3
   },
   "file_extension": ".py",
   "mimetype": "text/x-python",
   "name": "python",
   "nbconvert_exporter": "python",
   "pygments_lexer": "ipython3",
   "version": "3.12.4"
  }
 },
 "nbformat": 4,
 "nbformat_minor": 5
}
